{
 "cells": [
  {
   "cell_type": "markdown",
   "id": "5c7fad7c",
   "metadata": {},
   "source": [
    "# préambule"
   ]
  },
  {
   "cell_type": "markdown",
   "id": "35b3af12",
   "metadata": {},
   "source": [
    "Durant ce projet nous allons chercher à convertir une chaine de caractère en un QRCodes de type 1. Les caractèristiques des QRCodes de type 1 imposent que la chaine de caractère soit d'une longueur inférieur ou égale à 17 caractères. Vous pouvez donc entrer le texte que vous souhaitez dans la variable phrase tant que cela n'exède pas cette limite. Vous pourrez ensuite visualiser le résultat, après avoir éxécuté tout le code, en scannant le QRCode avec votre téléphone."
   ]
  },
  {
   "cell_type": "markdown",
   "id": "87655993",
   "metadata": {},
   "source": [
    "# WARNING"
   ]
  },
  {
   "cell_type": "markdown",
   "id": "690e1c81",
   "metadata": {},
   "source": [
    "Pour générer le QRCode, ce code dois faire appel à des codes correcteurs d'erreurs de type reed_solomon. Ces codes étant très longs et complexes à programmer, nous avons choisi de passer par l'intermediaire de la librairie reedsolo. Il est possible que vous rencontriez quelques difficultés pour installer cette librairie, c'est pourquoi je vous conseille, avant toute modification de la chaine de caractère, d'aller tester le résultat sur le QRCode pré-généré qui se trouve à la fin de ce notebook. En effet dans le cas ou vous ne parviendriez pas à installer cette librairie, il ne vous sera pas possible de générer votre propre QRCode, et il serait donc dommage que vous ne puissiez pas tout de même tester le résultat de ce projet."
   ]
  },
  {
   "cell_type": "markdown",
   "id": "da441c39",
   "metadata": {},
   "source": [
    "## entrer votre texte entre guillemets"
   ]
  },
  {
   "cell_type": "code",
   "execution_count": 296,
   "id": "27aaf0b7",
   "metadata": {},
   "outputs": [],
   "source": [
    "phrase = \"hello ECM\""
   ]
  },
  {
   "cell_type": "markdown",
   "id": "0fd7ea37",
   "metadata": {},
   "source": [
    "# Import"
   ]
  },
  {
   "cell_type": "code",
   "execution_count": 297,
   "id": "3c3eae6a",
   "metadata": {},
   "outputs": [],
   "source": [
    "from reedsolo import RSCodec, ReedSolomonError\n",
    "import numpy as np\n",
    "import matplotlib.pyplot as plt"
   ]
  },
  {
   "cell_type": "markdown",
   "id": "b2b21b7a",
   "metadata": {},
   "source": [
    "# conversion de la phrase en binaire"
   ]
  },
  {
   "cell_type": "markdown",
   "id": "c88b16e9",
   "metadata": {},
   "source": [
    "##### conversion de chaque caractère en binaire, sur 8 bits (format UTF-8)"
   ]
  },
  {
   "cell_type": "code",
   "execution_count": 298,
   "id": "0d2204b6",
   "metadata": {},
   "outputs": [],
   "source": [
    "phrase_binaire=[]\n",
    "for i in range(len(phrase)):\n",
    "    phrase_binaire.append(format(ord(phrase[i]), '08b'))"
   ]
  },
  {
   "cell_type": "code",
   "execution_count": 299,
   "id": "49bffc50",
   "metadata": {},
   "outputs": [
    {
     "data": {
      "text/plain": [
       "['01101000',\n",
       " '01100101',\n",
       " '01101100',\n",
       " '01101100',\n",
       " '01101111',\n",
       " '00100000',\n",
       " '01000101',\n",
       " '01000011',\n",
       " '01001101']"
      ]
     },
     "execution_count": 299,
     "metadata": {},
     "output_type": "execute_result"
    }
   ],
   "source": [
    "phrase_binaire"
   ]
  },
  {
   "cell_type": "markdown",
   "id": "ddf589f9",
   "metadata": {},
   "source": [
    "##### ajout de la taille de la chaine de caractère et du type de correction d'erreur (ici nous avons choisi une correction d'erreur faible (<7%))"
   ]
  },
  {
   "cell_type": "code",
   "execution_count": 300,
   "id": "24449a01",
   "metadata": {},
   "outputs": [],
   "source": [
    "size = format(len(phrase_binaire), '08b')"
   ]
  },
  {
   "cell_type": "code",
   "execution_count": 301,
   "id": "1be53989",
   "metadata": {},
   "outputs": [
    {
     "data": {
      "text/plain": [
       "['01000000',\n",
       " '10010110',\n",
       " '10000110',\n",
       " '01010110',\n",
       " '11000110',\n",
       " '11000110',\n",
       " '11110010',\n",
       " '00000100',\n",
       " '01010100',\n",
       " '00110100',\n",
       " '11010000']"
      ]
     },
     "execution_count": 301,
     "metadata": {},
     "output_type": "execute_result"
    }
   ],
   "source": [
    "information = []\n",
    "information.append('0100' + size[0:4])\n",
    "information.append(size[4:])\n",
    "for i in range(len(phrase_binaire)):\n",
    "    information[-1] = str(information[-1]) + phrase_binaire[i][0:4]\n",
    "    information.append(phrase_binaire[i][4:])\n",
    "information[-1] = str(information[-1]) + '0000'\n",
    "information"
   ]
  },
  {
   "cell_type": "markdown",
   "id": "856a1b39",
   "metadata": {},
   "source": [
    "##### completion de la chaine d'information avec un motif conventionnel afin d'atteindre la taille necessaire pour un QRCode de type 1"
   ]
  },
  {
   "cell_type": "code",
   "execution_count": 302,
   "id": "111ca6c8",
   "metadata": {},
   "outputs": [
    {
     "data": {
      "text/plain": [
       "['01000000',\n",
       " '10010110',\n",
       " '10000110',\n",
       " '01010110',\n",
       " '11000110',\n",
       " '11000110',\n",
       " '11110010',\n",
       " '00000100',\n",
       " '01010100',\n",
       " '00110100',\n",
       " '11010000',\n",
       " '11101100',\n",
       " '00010001',\n",
       " '11101100',\n",
       " '00010001',\n",
       " '11101100',\n",
       " '00010001',\n",
       " '11101100',\n",
       " '00010001']"
      ]
     },
     "execution_count": 302,
     "metadata": {},
     "output_type": "execute_result"
    }
   ],
   "source": [
    "alternance = True\n",
    "while len(information) < 19:\n",
    "    if alternance:\n",
    "        information.append('11101100')\n",
    "        alternance = False\n",
    "    else:\n",
    "        information.append('00010001')\n",
    "        alternance = True\n",
    "information"
   ]
  },
  {
   "cell_type": "markdown",
   "id": "669a62f9",
   "metadata": {},
   "source": [
    "##### traduction de la suite binaire en une suite d'entier pour preparer la génération des codes correcteurs d'erreurs"
   ]
  },
  {
   "cell_type": "code",
   "execution_count": 303,
   "id": "3e957e56",
   "metadata": {},
   "outputs": [],
   "source": [
    "def toint(x):\n",
    "    result = 0\n",
    "    for i in range(len(x)):\n",
    "        result += int(x[len(x)-1-i])*2**i\n",
    "    return result"
   ]
  },
  {
   "cell_type": "code",
   "execution_count": 304,
   "id": "8e99140e",
   "metadata": {},
   "outputs": [
    {
     "data": {
      "text/plain": [
       "[64,\n",
       " 150,\n",
       " 134,\n",
       " 86,\n",
       " 198,\n",
       " 198,\n",
       " 242,\n",
       " 4,\n",
       " 84,\n",
       " 52,\n",
       " 208,\n",
       " 236,\n",
       " 17,\n",
       " 236,\n",
       " 17,\n",
       " 236,\n",
       " 17,\n",
       " 236,\n",
       " 17]"
      ]
     },
     "execution_count": 304,
     "metadata": {},
     "output_type": "execute_result"
    }
   ],
   "source": [
    "new_info = []\n",
    "for x in information:\n",
    "    new_info.append(toint(x))\n",
    "    \n",
    "new_info"
   ]
  },
  {
   "cell_type": "markdown",
   "id": "453919a9",
   "metadata": {},
   "source": [
    "##### génération des codes correcteurs d'erreurs et obtention de la chaine binaire finale"
   ]
  },
  {
   "cell_type": "code",
   "execution_count": 305,
   "id": "b2ddf612",
   "metadata": {},
   "outputs": [],
   "source": [
    "rsc = RSCodec(7)\n",
    "final_information = rsc.encode(new_info)"
   ]
  },
  {
   "cell_type": "code",
   "execution_count": 306,
   "id": "5fdaf2ce",
   "metadata": {},
   "outputs": [
    {
     "data": {
      "text/plain": [
       "'0100000010010110100001100101011011000110110001101111001000000100010101000011010011010000111011000001000111101100000100011110110000010001111011000001000110100110111000100110011001101001011110010110011100010101'"
      ]
     },
     "execution_count": 306,
     "metadata": {},
     "output_type": "execute_result"
    }
   ],
   "source": [
    "bytes_as_bits = ''.join(format(byte, '08b') for byte in final_information)\n",
    "bytes_as_bits"
   ]
  },
  {
   "cell_type": "markdown",
   "id": "7e15d64f",
   "metadata": {},
   "source": [
    "On a donc ici la chaine binaire final, qui sera encodée dans la matrice du QRCode. Il nous faut maintenant générer cette matrice en respectant toute les contraintes liées au format pour pouvoir enfin avoir notre QRCode."
   ]
  },
  {
   "cell_type": "markdown",
   "id": "6e8db218",
   "metadata": {},
   "source": [
    "# création de la matrice"
   ]
  },
  {
   "cell_type": "markdown",
   "id": "1f848a7c",
   "metadata": {},
   "source": [
    "##### création d'une matrice vierge"
   ]
  },
  {
   "cell_type": "code",
   "execution_count": 307,
   "id": "df035a7e",
   "metadata": {},
   "outputs": [
    {
     "data": {
      "text/plain": [
       "<matplotlib.image.AxesImage at 0x186ab4205b0>"
      ]
     },
     "execution_count": 307,
     "metadata": {},
     "output_type": "execute_result"
    },
    {
     "data": {
      "image/png": "[encoded data removed]",
      "text/plain": [
       "<Figure size 432x288 with 1 Axes>"
      ]
     },
     "metadata": {
      "needs_background": "light"
     },
     "output_type": "display_data"
    }
   ],
   "source": [
    "qrcode = np.asarray(21*[21*[[255,255,255]]])\n",
    "\n",
    "# prévisualisation\n",
    "plt.imshow(qrcode)"
   ]
  },
  {
   "cell_type": "markdown",
   "id": "5fe18601",
   "metadata": {},
   "source": [
    "###### ajout des paternes de détection"
   ]
  },
  {
   "cell_type": "code",
   "execution_count": 308,
   "id": "ebc5bee6",
   "metadata": {},
   "outputs": [
    {
     "data": {
      "text/plain": [
       "<matplotlib.image.AxesImage at 0x186ab496220>"
      ]
     },
     "execution_count": 308,
     "metadata": {},
     "output_type": "execute_result"
    },
    {
     "data": {
      "image/png": "[encoded data removed]",
      "text/plain": [
       "<Figure size 432x288 with 1 Axes>"
      ]
     },
     "metadata": {
      "needs_background": "light"
     },
     "output_type": "display_data"
    }
   ],
   "source": [
    "find_patern = np.asarray([[[0,0,0],[0,0,0],[0,0,0],[0,0,0],[0,0,0],[0,0,0],[0,0,0]],[[0,0,0],[255,255,255],[255,255,255],[255,255,255],[255,255,255],[255,255,255],[0,0,0]],[[0,0,0],[255,255,255],[0,0,0],[0,0,0],[0,0,0],[255,255,255],[0,0,0]],[[0,0,0],[255,255,255],[0,0,0],[0,0,0],[0,0,0],[255,255,255],[0,0,0]],[[0,0,0],[255,255,255],[0,0,0],[0,0,0],[0,0,0],[255,255,255],[0,0,0]],[[0,0,0],[255,255,255],[255,255,255],[255,255,255],[255,255,255],[255,255,255],[0,0,0]],[[0,0,0],[0,0,0],[0,0,0],[0,0,0],[0,0,0],[0,0,0],[0,0,0]]])\n",
    "\n",
    "qrcode[:7,:7,:] = find_patern\n",
    "qrcode[14:,:7,:] = find_patern\n",
    "qrcode[:7,14:,:] = find_patern\n",
    "\n",
    "# prévisualisation\n",
    "plt.imshow(qrcode)"
   ]
  },
  {
   "cell_type": "markdown",
   "id": "39670f6e",
   "metadata": {},
   "source": [
    "##### ajout des paternes d'alignement"
   ]
  },
  {
   "cell_type": "code",
   "execution_count": 309,
   "id": "fb690464",
   "metadata": {},
   "outputs": [
    {
     "data": {
      "text/plain": [
       "<matplotlib.image.AxesImage at 0x186ab4ec2e0>"
      ]
     },
     "execution_count": 309,
     "metadata": {},
     "output_type": "execute_result"
    },
    {
     "data": {
      "image/png": "[encoded data removed]",
      "text/plain": [
       "<Figure size 432x288 with 1 Axes>"
      ]
     },
     "metadata": {
      "needs_background": "light"
     },
     "output_type": "display_data"
    }
   ],
   "source": [
    "qrcode[6,7:14,:] = [[255,255,255],[0,0,0],[255,255,255],[0,0,0],[255,255,255],[0,0,0],[255,255,255]]\n",
    "qrcode[7:14,6,:] = [[255,255,255],[0,0,0],[255,255,255],[0,0,0],[255,255,255],[0,0,0],[255,255,255]]\n",
    "\n",
    "# prévisualisation\n",
    "plt.imshow(qrcode)"
   ]
  },
  {
   "cell_type": "markdown",
   "id": "525e59aa",
   "metadata": {},
   "source": [
    "##### ajout des informations sur le format des données"
   ]
  },
  {
   "cell_type": "code",
   "execution_count": 310,
   "id": "621df2ff",
   "metadata": {},
   "outputs": [
    {
     "data": {
      "text/plain": [
       "<matplotlib.image.AxesImage at 0x186ab54e250>"
      ]
     },
     "execution_count": 310,
     "metadata": {},
     "output_type": "execute_result"
    },
    {
     "data": {
      "image/png": "[encoded data removed]",
      "text/plain": [
       "<Figure size 432x288 with 1 Axes>"
      ]
     },
     "metadata": {
      "needs_background": "light"
     },
     "output_type": "display_data"
    }
   ],
   "source": [
    "qrcode[14:,8,:] = [[0,0,0],[0,0,0],[0,0,0],[255,255,255],[0,0,0],[0,0,0],[0,0,0]]\n",
    "qrcode[8,:6,:] = [[0,0,0],[0,0,0],[0,0,0],[255,255,255],[0,0,0],[0,0,0]]\n",
    "qrcode[8,7:9,:] = [[0,0,0],[0,0,0]]\n",
    "qrcode[7,8,:] = [0,0,0]\n",
    "qrcode[2,8,:] = [0,0,0]\n",
    "\n",
    "qrcode[8,13:15,:] = [[0,0,0],[0,0,0]]\n",
    "qrcode[8,18,:] = [0,0,0]\n",
    "\n",
    "# prévisualisation\n",
    "plt.imshow(qrcode)"
   ]
  },
  {
   "cell_type": "markdown",
   "id": "f9caaf8a",
   "metadata": {},
   "source": [
    "##### création du masque permetant l'ajout des informations dans le QRCode"
   ]
  },
  {
   "cell_type": "code",
   "execution_count": 311,
   "id": "b9b4c2d5",
   "metadata": {},
   "outputs": [],
   "source": [
    "masque = []\n",
    "for x in range(0,21):\n",
    "    masque.append([])\n",
    "    for y in range(0,21):\n",
    "        \n",
    "        if (x+y)%2 == 0:\n",
    "            masque[-1].append(True)\n",
    "        else:\n",
    "            masque[-1].append(False)\n",
    "            \n",
    "def masquage(i,j,bit):\n",
    "    if masque[i][j] :\n",
    "        if bit == 1:\n",
    "            return [255,255,255]\n",
    "        else:\n",
    "            return [0,0,0]\n",
    "    else:\n",
    "        if bit == 1:\n",
    "            return [0,0,0]\n",
    "        else:\n",
    "            return [255,255,255]"
   ]
  },
  {
   "cell_type": "markdown",
   "id": "8767ada0",
   "metadata": {},
   "source": [
    "##### integration de la séquence binaire dans le QRCode"
   ]
  },
  {
   "cell_type": "markdown",
   "id": "c717125f",
   "metadata": {},
   "source": [
    "Cette partie n'est ni la plus passionnante ni la plus complexe, car elle ne consiste qu'à entrer les valeurs binaires une à une dans la matrice. Cependant cette fonction ne peut pas etre faite via une ou plusieurs boucles à cause du sens de lecture du QRCode qui est très particulier. Ainsi cette tache doit etre réalisé bit par bit."
   ]
  },
  {
   "cell_type": "code",
   "execution_count": 312,
   "id": "5f375f3f",
   "metadata": {},
   "outputs": [],
   "source": [
    "# colone 1-2\n",
    "\n",
    "qrcode[20,20,:] = masquage(20,20,int(bytes_as_bits[0]))\n",
    "qrcode[20,19,:] = masquage(20,19,int(bytes_as_bits[1]))\n",
    "qrcode[19,20,:] = masquage(19,20,int(bytes_as_bits[2]))\n",
    "qrcode[19,19,:] = masquage(19,19,int(bytes_as_bits[3]))\n",
    "qrcode[18,20,:] = masquage(18,20,int(bytes_as_bits[4]))\n",
    "qrcode[18,19,:] = masquage(18,19,int(bytes_as_bits[5]))\n",
    "qrcode[17,20,:] = masquage(17,20,int(bytes_as_bits[6]))\n",
    "qrcode[17,19,:] = masquage(17,19,int(bytes_as_bits[7]))\n",
    "\n",
    "qrcode[16,20,:] = masquage(16,20,int(bytes_as_bits[8]))\n",
    "qrcode[16,19,:] = masquage(16,19,int(bytes_as_bits[9]))\n",
    "qrcode[15,20,:] = masquage(15,20,int(bytes_as_bits[10]))\n",
    "qrcode[15,19,:] = masquage(15,19,int(bytes_as_bits[11]))\n",
    "qrcode[14,20,:] = masquage(14,20,int(bytes_as_bits[12]))\n",
    "qrcode[14,19,:] = masquage(14,19,int(bytes_as_bits[13]))\n",
    "qrcode[13,20,:] = masquage(13,20,int(bytes_as_bits[14]))\n",
    "qrcode[13,19,:] = masquage(13,19,int(bytes_as_bits[15]))\n",
    "\n",
    "qrcode[12,20,:] = masquage(12,20,int(bytes_as_bits[16]))\n",
    "qrcode[12,19,:] = masquage(12,19,int(bytes_as_bits[17]))\n",
    "qrcode[11,20,:] = masquage(11,20,int(bytes_as_bits[18]))\n",
    "qrcode[11,19,:] = masquage(11,19,int(bytes_as_bits[19]))\n",
    "qrcode[10,20,:] = masquage(10,20,int(bytes_as_bits[20]))\n",
    "qrcode[10,19,:] = masquage(10,19,int(bytes_as_bits[21]))\n",
    "qrcode[9,20,:] = masquage(9,20,int(bytes_as_bits[22]))\n",
    "qrcode[9,19,:] = masquage(9,19,int(bytes_as_bits[23]))\n",
    "\n",
    "# ------------------------------------------------------------------------------------------------------------------------\n",
    "# colone 3-4\n",
    "\n",
    "qrcode[20,18,:] = masquage(20,18,int(bytes_as_bits[46]))\n",
    "qrcode[20,17,:] = masquage(20,17,int(bytes_as_bits[47]))\n",
    "qrcode[19,18,:] = masquage(19,18,int(bytes_as_bits[44]))\n",
    "qrcode[19,17,:] = masquage(19,17,int(bytes_as_bits[45]))\n",
    "qrcode[18,18,:] = masquage(18,18,int(bytes_as_bits[42]))\n",
    "qrcode[18,17,:] = masquage(18,17,int(bytes_as_bits[43]))\n",
    "qrcode[17,18,:] = masquage(17,18,int(bytes_as_bits[40]))\n",
    "qrcode[17,17,:] = masquage(17,17,int(bytes_as_bits[41]))\n",
    "\n",
    "qrcode[16,18,:] = masquage(16,18,int(bytes_as_bits[38]))\n",
    "qrcode[16,17,:] = masquage(16,17,int(bytes_as_bits[39]))\n",
    "qrcode[15,18,:] = masquage(15,18,int(bytes_as_bits[36]))\n",
    "qrcode[15,17,:] = masquage(15,17,int(bytes_as_bits[37]))\n",
    "qrcode[14,18,:] = masquage(14,18,int(bytes_as_bits[34]))\n",
    "qrcode[14,17,:] = masquage(14,17,int(bytes_as_bits[35]))\n",
    "qrcode[13,18,:] = masquage(13,18,int(bytes_as_bits[32]))\n",
    "qrcode[13,17,:] = masquage(13,17,int(bytes_as_bits[33]))\n",
    "\n",
    "qrcode[12,18,:] = masquage(12,18,int(bytes_as_bits[30]))\n",
    "qrcode[12,17,:] = masquage(12,17,int(bytes_as_bits[31]))\n",
    "qrcode[11,18,:] = masquage(11,18,int(bytes_as_bits[28]))\n",
    "qrcode[11,17,:] = masquage(11,17,int(bytes_as_bits[29]))\n",
    "qrcode[10,18,:] = masquage(10,18,int(bytes_as_bits[26]))\n",
    "qrcode[10,17,:] = masquage(10,17,int(bytes_as_bits[27]))\n",
    "qrcode[9,18,:] = masquage(9,18,int(bytes_as_bits[24]))\n",
    "qrcode[9,17,:] = masquage(9,17,int(bytes_as_bits[25]))\n",
    "\n",
    "# ------------------------------------------------------------------------------------------------------------------------\n",
    "# colone 5-6\n",
    "\n",
    "qrcode[20,16,:] = masquage(20,16,int(bytes_as_bits[48]))\n",
    "qrcode[20,15,:] = masquage(20,15,int(bytes_as_bits[49]))\n",
    "qrcode[19,16,:] = masquage(19,16,int(bytes_as_bits[50]))\n",
    "qrcode[19,15,:] = masquage(19,15,int(bytes_as_bits[51]))\n",
    "qrcode[18,16,:] = masquage(18,16,int(bytes_as_bits[52]))\n",
    "qrcode[18,15,:] = masquage(18,15,int(bytes_as_bits[53]))\n",
    "qrcode[17,16,:] = masquage(17,16,int(bytes_as_bits[54]))\n",
    "qrcode[17,15,:] = masquage(17,15,int(bytes_as_bits[55]))\n",
    "\n",
    "qrcode[16,16,:] = masquage(16,16,int(bytes_as_bits[56]))\n",
    "qrcode[16,15,:] = masquage(16,15,int(bytes_as_bits[57]))\n",
    "qrcode[15,16,:] = masquage(15,16,int(bytes_as_bits[58]))\n",
    "qrcode[15,15,:] = masquage(15,15,int(bytes_as_bits[59]))\n",
    "qrcode[14,16,:] = masquage(14,16,int(bytes_as_bits[60]))\n",
    "qrcode[14,15,:] = masquage(14,15,int(bytes_as_bits[61]))\n",
    "qrcode[13,16,:] = masquage(13,16,int(bytes_as_bits[62]))\n",
    "qrcode[13,15,:] = masquage(13,15,int(bytes_as_bits[63]))\n",
    "\n",
    "qrcode[12,16,:] = masquage(12,16,int(bytes_as_bits[64]))\n",
    "qrcode[12,15,:] = masquage(12,15,int(bytes_as_bits[65]))\n",
    "qrcode[11,16,:] = masquage(11,16,int(bytes_as_bits[66]))\n",
    "qrcode[11,15,:] = masquage(11,15,int(bytes_as_bits[67]))\n",
    "qrcode[10,16,:] = masquage(10,16,int(bytes_as_bits[68]))\n",
    "qrcode[10,15,:] = masquage(10,15,int(bytes_as_bits[69]))\n",
    "qrcode[9,16,:] = masquage(9,16,int(bytes_as_bits[70]))\n",
    "qrcode[9,15,:] = masquage(9,15,int(bytes_as_bits[71]))\n",
    "\n",
    "# ------------------------------------------------------------------------------------------------------------------------\n",
    "# colone 7-8\n",
    "\n",
    "qrcode[20,14,:] = masquage(20,14,int(bytes_as_bits[94]))\n",
    "qrcode[20,13,:] = masquage(20,13,int(bytes_as_bits[95]))\n",
    "qrcode[19,14,:] = masquage(19,14,int(bytes_as_bits[92]))\n",
    "qrcode[19,13,:] = masquage(19,13,int(bytes_as_bits[93]))\n",
    "qrcode[18,14,:] = masquage(18,14,int(bytes_as_bits[90]))\n",
    "qrcode[18,13,:] = masquage(18,13,int(bytes_as_bits[91]))\n",
    "qrcode[17,14,:] = masquage(17,14,int(bytes_as_bits[88]))\n",
    "qrcode[17,13,:] = masquage(17,13,int(bytes_as_bits[89]))\n",
    "\n",
    "qrcode[16,14,:] = masquage(16,14,int(bytes_as_bits[86]))\n",
    "qrcode[16,13,:] = masquage(16,13,int(bytes_as_bits[87]))\n",
    "qrcode[15,14,:] = masquage(15,14,int(bytes_as_bits[84]))\n",
    "qrcode[15,13,:] = masquage(15,13,int(bytes_as_bits[85]))\n",
    "qrcode[14,14,:] = masquage(14,14,int(bytes_as_bits[82]))\n",
    "qrcode[14,13,:] = masquage(14,13,int(bytes_as_bits[83]))\n",
    "qrcode[13,14,:] = masquage(13,14,int(bytes_as_bits[80]))\n",
    "qrcode[13,13,:] = masquage(13,13,int(bytes_as_bits[81]))\n",
    "\n",
    "qrcode[12,14,:] = masquage(12,14,int(bytes_as_bits[78]))\n",
    "qrcode[12,13,:] = masquage(12,13,int(bytes_as_bits[79]))\n",
    "qrcode[11,14,:] = masquage(11,14,int(bytes_as_bits[76]))\n",
    "qrcode[11,13,:] = masquage(11,13,int(bytes_as_bits[77]))\n",
    "qrcode[10,14,:] = masquage(10,14,int(bytes_as_bits[74]))\n",
    "qrcode[10,13,:] = masquage(10,13,int(bytes_as_bits[75]))\n",
    "qrcode[9,14,:] = masquage(9,14,int(bytes_as_bits[72]))\n",
    "qrcode[9,13,:] = masquage(9,13,int(bytes_as_bits[73]))\n",
    "\n",
    "# ------------------------------------------------------------------------------------------------------------------------\n",
    "# colone 9-10\n",
    "\n",
    "qrcode[20,12,:] = masquage(20,12,int(bytes_as_bits[96]))\n",
    "qrcode[20,11,:] = masquage(20,11,int(bytes_as_bits[97]))\n",
    "qrcode[19,12,:] = masquage(19,12,int(bytes_as_bits[98]))\n",
    "qrcode[19,11,:] = masquage(19,11,int(bytes_as_bits[99]))\n",
    "qrcode[18,12,:] = masquage(18,12,int(bytes_as_bits[100]))\n",
    "qrcode[18,11,:] = masquage(18,11,int(bytes_as_bits[101]))\n",
    "qrcode[17,12,:] = masquage(17,12,int(bytes_as_bits[102]))\n",
    "qrcode[17,11,:] = masquage(17,11,int(bytes_as_bits[103]))\n",
    "\n",
    "qrcode[16,12,:] = masquage(16,12,int(bytes_as_bits[104]))\n",
    "qrcode[16,11,:] = masquage(16,11,int(bytes_as_bits[105]))\n",
    "qrcode[15,12,:] = masquage(15,12,int(bytes_as_bits[106]))\n",
    "qrcode[15,11,:] = masquage(15,11,int(bytes_as_bits[107]))\n",
    "qrcode[14,12,:] = masquage(14,12,int(bytes_as_bits[108]))\n",
    "qrcode[14,11,:] = masquage(14,11,int(bytes_as_bits[109]))\n",
    "qrcode[13,12,:] = masquage(13,12,int(bytes_as_bits[110]))\n",
    "qrcode[13,11,:] = masquage(13,11,int(bytes_as_bits[111]))\n",
    "\n",
    "qrcode[12,12,:] = masquage(12,12,int(bytes_as_bits[112]))\n",
    "qrcode[12,11,:] = masquage(12,11,int(bytes_as_bits[113]))\n",
    "qrcode[11,12,:] = masquage(11,12,int(bytes_as_bits[114]))\n",
    "qrcode[11,11,:] = masquage(11,11,int(bytes_as_bits[115]))\n",
    "qrcode[10,12,:] = masquage(10,12,int(bytes_as_bits[116]))\n",
    "qrcode[10,11,:] = masquage(10,11,int(bytes_as_bits[117]))\n",
    "qrcode[9,12,:] = masquage(9,12,int(bytes_as_bits[118]))\n",
    "qrcode[9,11,:] = masquage(9,11,int(bytes_as_bits[119]))\n",
    "\n",
    "qrcode[8,12,:] = masquage(8,12,int(bytes_as_bits[120]))\n",
    "qrcode[8,11,:] = masquage(8,11,int(bytes_as_bits[121]))\n",
    "qrcode[7,12,:] = masquage(7,12,int(bytes_as_bits[122]))\n",
    "qrcode[7,11,:] = masquage(7,11,int(bytes_as_bits[123]))\n",
    "qrcode[5,12,:] = masquage(5,12,int(bytes_as_bits[124]))\n",
    "qrcode[5,11,:] = masquage(5,11,int(bytes_as_bits[125]))\n",
    "qrcode[4,12,:] = masquage(4,12,int(bytes_as_bits[126]))\n",
    "qrcode[4,11,:] = masquage(4,11,int(bytes_as_bits[127]))\n",
    "\n",
    "qrcode[3,12,:] = masquage(3,12,int(bytes_as_bits[128]))\n",
    "qrcode[3,11,:] = masquage(3,11,int(bytes_as_bits[129]))\n",
    "qrcode[2,12,:] = masquage(2,12,int(bytes_as_bits[130]))\n",
    "qrcode[2,11,:] = masquage(2,11,int(bytes_as_bits[131]))\n",
    "qrcode[1,12,:] = masquage(1,12,int(bytes_as_bits[132]))\n",
    "qrcode[1,11,:] = masquage(1,11,int(bytes_as_bits[133]))\n",
    "qrcode[0,12,:] = masquage(0,12,int(bytes_as_bits[134]))\n",
    "qrcode[0,11,:] = masquage(0,11,int(bytes_as_bits[135]))\n",
    "\n",
    "# ------------------------------------------------------------------------------------------------------------------------\n",
    "# colone 11-12\n",
    "\n",
    "qrcode[20,10,:] = masquage(20,10,int(bytes_as_bits[174]))\n",
    "qrcode[20,9,:] = masquage(20,9,int(bytes_as_bits[175]))\n",
    "qrcode[19,10,:] = masquage(19,10,int(bytes_as_bits[172]))\n",
    "qrcode[19,9,:] = masquage(19,9,int(bytes_as_bits[173]))\n",
    "qrcode[18,10,:] = masquage(18,10,int(bytes_as_bits[170]))\n",
    "qrcode[18,9,:] = masquage(18,9,int(bytes_as_bits[171]))\n",
    "qrcode[17,10,:] = masquage(17,10,int(bytes_as_bits[168]))\n",
    "qrcode[17,9,:] = masquage(17,9,int(bytes_as_bits[169]))\n",
    "\n",
    "qrcode[16,10,:] = masquage(16,10,int(bytes_as_bits[166]))\n",
    "qrcode[16,9,:] = masquage(16,9,int(bytes_as_bits[167]))\n",
    "qrcode[15,10,:] = masquage(15,10,int(bytes_as_bits[164]))\n",
    "qrcode[15,9,:] = masquage(15,9,int(bytes_as_bits[165]))\n",
    "qrcode[14,10,:] = masquage(14,10,int(bytes_as_bits[162]))\n",
    "qrcode[14,9,:] = masquage(14,9,int(bytes_as_bits[163]))\n",
    "qrcode[13,10,:] = masquage(13,10,int(bytes_as_bits[160]))\n",
    "qrcode[13,9,:] = masquage(13,9,int(bytes_as_bits[161]))\n",
    "\n",
    "qrcode[12,10,:] = masquage(12,10,int(bytes_as_bits[158]))\n",
    "qrcode[12,9,:] = masquage(12,9,int(bytes_as_bits[159]))\n",
    "qrcode[11,10,:] = masquage(11,10,int(bytes_as_bits[156]))\n",
    "qrcode[11,9,:] = masquage(11,9,int(bytes_as_bits[157]))\n",
    "qrcode[10,10,:] = masquage(10,10,int(bytes_as_bits[154]))\n",
    "qrcode[10,9,:] = masquage(10,9,int(bytes_as_bits[155]))\n",
    "qrcode[9,10,:] = masquage(9,10,int(bytes_as_bits[152]))\n",
    "qrcode[9,9,:] = masquage(9,9,int(bytes_as_bits[153]))\n",
    "\n",
    "qrcode[8,10,:] = masquage(8,10,int(bytes_as_bits[150]))\n",
    "qrcode[8,9,:] = masquage(8,9,int(bytes_as_bits[151]))\n",
    "qrcode[7,10,:] = masquage(7,10,int(bytes_as_bits[148]))\n",
    "qrcode[7,9,:] = masquage(7,9,int(bytes_as_bits[149]))\n",
    "qrcode[5,10,:] = masquage(5,10,int(bytes_as_bits[146]))\n",
    "qrcode[5,9,:] = masquage(5,9,int(bytes_as_bits[147]))\n",
    "qrcode[4,10,:] = masquage(4,10,int(bytes_as_bits[144]))\n",
    "qrcode[4,9,:] = masquage(4,9,int(bytes_as_bits[145]))\n",
    "\n",
    "qrcode[3,10,:] = masquage(3,10,int(bytes_as_bits[142]))\n",
    "qrcode[3,9,:] = masquage(3,9,int(bytes_as_bits[143]))\n",
    "qrcode[2,10,:] = masquage(2,10,int(bytes_as_bits[140]))\n",
    "qrcode[2,9,:] = masquage(2,9,int(bytes_as_bits[141]))\n",
    "qrcode[1,10,:] = masquage(1,10,int(bytes_as_bits[138]))\n",
    "qrcode[1,9,:] = masquage(1,9,int(bytes_as_bits[139]))\n",
    "qrcode[0,10,:] = masquage(0,10,int(bytes_as_bits[136]))\n",
    "qrcode[0,9,:] = masquage(0,9,int(bytes_as_bits[137]))\n",
    "\n",
    "# ------------------------------------------------------------------------------------------------------------------------\n",
    "# colone 13-14\n",
    "\n",
    "qrcode[12,8,:] = masquage(12,8,int(bytes_as_bits[176]))\n",
    "qrcode[12,7,:] = masquage(12,7,int(bytes_as_bits[177]))\n",
    "qrcode[11,8,:] = masquage(11,8,int(bytes_as_bits[178]))\n",
    "qrcode[11,7,:] = masquage(11,7,int(bytes_as_bits[179]))\n",
    "qrcode[10,8,:] = masquage(10,8,int(bytes_as_bits[180]))\n",
    "qrcode[10,7,:] = masquage(10,7,int(bytes_as_bits[181]))\n",
    "qrcode[9,8,:] = masquage(9,8,int(bytes_as_bits[182]))\n",
    "qrcode[9,7,:] = masquage(9,7,int(bytes_as_bits[183]))\n",
    "\n",
    "# ------------------------------------------------------------------------------------------------------------------------\n",
    "# colone 16-17\n",
    "\n",
    "qrcode[12,5,:] = masquage(12,5,int(bytes_as_bits[190]))\n",
    "qrcode[12,4,:] = masquage(12,4,int(bytes_as_bits[191]))\n",
    "qrcode[11,5,:] = masquage(11,5,int(bytes_as_bits[188]))\n",
    "qrcode[11,4,:] = masquage(11,4,int(bytes_as_bits[189]))\n",
    "qrcode[10,5,:] = masquage(10,5,int(bytes_as_bits[186]))\n",
    "qrcode[10,4,:] = masquage(10,4,int(bytes_as_bits[187]))\n",
    "qrcode[9,5,:] = masquage(9,5,int(bytes_as_bits[184]))\n",
    "qrcode[9,4,:] = masquage(9,4,int(bytes_as_bits[185]))\n",
    "\n",
    "# ------------------------------------------------------------------------------------------------------------------------\n",
    "# colone 18-19\n",
    "\n",
    "qrcode[12,3,:] = masquage(12,3,int(bytes_as_bits[192]))\n",
    "qrcode[12,2,:] = masquage(12,2,int(bytes_as_bits[193]))\n",
    "qrcode[11,3,:] = masquage(11,3,int(bytes_as_bits[194]))\n",
    "qrcode[11,2,:] = masquage(11,2,int(bytes_as_bits[195]))\n",
    "qrcode[10,3,:] = masquage(10,3,int(bytes_as_bits[196]))\n",
    "qrcode[10,2,:] = masquage(10,2,int(bytes_as_bits[197]))\n",
    "qrcode[9,3,:] = masquage(9,3,int(bytes_as_bits[198]))\n",
    "qrcode[9,2,:] = masquage(9,2,int(bytes_as_bits[199]))\n",
    "\n",
    "# ------------------------------------------------------------------------------------------------------------------------\n",
    "# colone 20-21\n",
    "\n",
    "qrcode[12,1,:] = masquage(12,1,int(bytes_as_bits[206]))\n",
    "qrcode[12,0,:] = masquage(12,0,int(bytes_as_bits[207]))\n",
    "qrcode[11,1,:] = masquage(11,1,int(bytes_as_bits[204]))\n",
    "qrcode[11,0,:] = masquage(11,0,int(bytes_as_bits[205]))\n",
    "qrcode[10,1,:] = masquage(10,1,int(bytes_as_bits[202]))\n",
    "qrcode[10,0,:] = masquage(10,0,int(bytes_as_bits[203]))\n",
    "qrcode[9,1,:] = masquage(9,1,int(bytes_as_bits[200]))\n",
    "qrcode[9,0,:] = masquage(9,0,int(bytes_as_bits[201]))"
   ]
  },
  {
   "cell_type": "markdown",
   "id": "c14fcba7",
   "metadata": {},
   "source": [
    "# visualisation du résultat"
   ]
  },
  {
   "cell_type": "code",
   "execution_count": 313,
   "id": "13886618",
   "metadata": {},
   "outputs": [
    {
     "data": {
      "text/plain": [
       "<matplotlib.image.AxesImage at 0x186ab327a30>"
      ]
     },
     "execution_count": 313,
     "metadata": {},
     "output_type": "execute_result"
    },
    {
     "data": {
      "image/png": "[encoded data removed]",
      "text/plain": [
       "<Figure size 432x288 with 1 Axes>"
      ]
     },
     "metadata": {
      "needs_background": "light"
     },
     "output_type": "display_data"
    }
   ],
   "source": [
    "plt.imshow(qrcode)"
   ]
  }
 ],
 "metadata": {
  "kernelspec": {
   "display_name": "Python 3",
   "language": "python",
   "name": "python3"
  },
  "language_info": {
   "codemirror_mode": {
    "name": "ipython",
    "version": 3
   },
   "file_extension": ".py",
   "mimetype": "text/x-python",
   "name": "python",
   "nbconvert_exporter": "python",
   "pygments_lexer": "ipython3",
   "version": "3.8.8"
  }
 },
 "nbformat": 4,
 "nbformat_minor": 5
}
